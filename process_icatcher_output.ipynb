{
 "cells": [
  {
   "cell_type": "code",
   "execution_count": 1,
   "id": "7c81917f",
   "metadata": {},
   "outputs": [],
   "source": [
    "import os\n",
    "import sys\n",
    "from pathlib import Path\n",
    "import pandas as pd\n",
    "import numpy as np\n",
    "from scipy.stats import pearsonr\n",
    "from Scripts.video import get_frame_information"
   ]
  },
  {
   "cell_type": "code",
   "execution_count": 2,
   "id": "12438875",
   "metadata": {},
   "outputs": [],
   "source": [
    "# global directory path variables. make these your folder names under MCS\n",
    "ICATCHER_DIR = 'iCatcherOutput'\n",
    "\n",
    "# trial info\n",
    "TRIAL_INFO_DIR = 'lookit_info/lookit_trial_timing_info.csv'\n",
    "\n",
    "# directory for videos\n",
    "VID_DIR = '/nese/mit/group/saxelab/users/galraz/mcs/videos/BBB'\n",
    "\n",
    "# add absolute path to iCatcher repo\n",
    "ICATCHER = '/Users/gracesong/dev/iCatcher'\n",
    "sys.path.append(ICATCHER)"
   ]
  },
  {
   "cell_type": "code",
   "execution_count": 3,
   "id": "fa14a87b",
   "metadata": {},
   "outputs": [],
   "source": [
    "def listdir_nohidden(path):\n",
    "    for f in os.listdir(path):\n",
    "        if not f.startswith('.'):\n",
    "            yield f\n"
   ]
  },
  {
   "cell_type": "code",
   "execution_count": 4,
   "id": "fc1be216",
   "metadata": {},
   "outputs": [],
   "source": [
    "def run_analyze_output(data_filename=\"BBB_output.csv\", session=None):\n",
    "    \"\"\"\n",
    "    Given an iCatcher output directory and Datavyu input and output \n",
    "    files, runs iCatcher over all videos in vid_dir that have not been\n",
    "    already run, computes looking times for all iCatcher outputs, and\n",
    "    compares with Datavyu looking times. \n",
    "    data_filename (string): name of file you want comparison data to be written\n",
    "            to. Must have .csv ending. \n",
    "    session (string): ID of the experiment session. If session is not\n",
    "            specified, looks for videos only within VID_DIR, otherwise\n",
    "            searches within [VID_DIR]/session[session]\n",
    "    \"\"\"\n",
    "    for filename in listdir_nohidden(ICATCHER_DIR):\n",
    "        child_id = filename.split('.')[0]\n",
    "\n",
    "        # skip if child data already added\n",
    "        output_file = Path(data_filename)\n",
    "        if output_file.is_file():\n",
    "            output_df = pd.read_csv(data_filename, index_col=0)\n",
    "            ids = output_df['child'].unique()\n",
    "            if child_id in ids: \n",
    "                print(child_id + ' already processed')\n",
    "                continue\n",
    "        \n",
    "        vid_path = VID_DIR + '/'\n",
    "        if session:\n",
    "            vid_path += \"session\" + session + '/'\n",
    "        vid_path = vid_path + child_id + \".mp4\"\n",
    "\n",
    "        # get timestamp for each frame in the video\n",
    "        print('getting frame information for {}...'.format(vid_path))\n",
    "        timestamps, length = get_frame_information(vid_path)\n",
    "        if not timestamps:\n",
    "            print('video not found for {} in {} folder'.format(child_id, VID_DIR))\n",
    "            continue\n",
    "        \n",
    "        # initialize df with time stamps for iCatcher file\n",
    "        icatcher_path = ICATCHER_DIR + '/' + filename\n",
    "        icatcher = read_convert_output(icatcher_path, timestamps)\n",
    "\n",
    "        # get trial onsets and offsets from input file, match to iCatcher file\n",
    "        trial_sets, df = get_trial_sets(child_id)\n",
    "        assign_trial(icatcher, trial_sets)\n",
    "        \n",
    "        # sum on looks and off looks for each trial\n",
    "        icatcher_times = get_on_off_times(icatcher)\n",
    "        # datavyu_times = get_output_times(output_file)\n",
    "\n",
    "        # check whether number of trials from trial info is the same as \n",
    "        if icatcher['trial'].max() != len(df):\n",
    "            print('mismatch in # of trials between icatcher and session info: {} in {} folder'.format(child_id, VID_DIR))\n",
    "            continue\n",
    "\n",
    "        write_to_csv(data_filename, child_id, icatcher_times, session, df['fam_or_test'], df['scene'], icatcher)\n"
   ]
  },
  {
   "cell_type": "code",
   "execution_count": null,
   "id": "fdb08c07",
   "metadata": {},
   "outputs": [],
   "source": []
  }
 ],
 "metadata": {
  "kernelspec": {
   "display_name": "Python 3 (ipykernel)",
   "language": "python",
   "name": "python3"
  },
  "language_info": {
   "codemirror_mode": {
    "name": "ipython",
    "version": 3
   },
   "file_extension": ".py",
   "mimetype": "text/x-python",
   "name": "python",
   "nbconvert_exporter": "python",
   "pygments_lexer": "ipython3",
   "version": "3.9.7"
  }
 },
 "nbformat": 4,
 "nbformat_minor": 5
}
